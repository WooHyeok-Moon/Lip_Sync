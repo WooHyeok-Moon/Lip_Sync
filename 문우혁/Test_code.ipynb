{
 "cells": [
  {
   "cell_type": "markdown",
   "id": "39461d45-df21-4558-9e9f-3ca92948f0ea",
   "metadata": {},
   "source": [
    "# Welcome to Lip Sync Project"
   ]
  },
  {
   "cell_type": "code",
   "execution_count": 1,
   "id": "69b48b0c-b833-4482-8d92-a4278055602e",
   "metadata": {},
   "outputs": [],
   "source": [
    "from sklearn.linear_model import LinearRegression"
   ]
  }
 ],
 "metadata": {
  "kernelspec": {
   "display_name": "Python 3 (ipykernel)",
   "language": "python",
   "name": "python3"
  },
  "language_info": {
   "codemirror_mode": {
    "name": "ipython",
    "version": 3
   },
   "file_extension": ".py",
   "mimetype": "text/x-python",
   "name": "python",
   "nbconvert_exporter": "python",
   "pygments_lexer": "ipython3",
   "version": "3.9.12"
  }
 },
 "nbformat": 4,
 "nbformat_minor": 5
}
